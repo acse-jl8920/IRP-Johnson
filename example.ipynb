{
 "cells": [
  {
   "cell_type": "code",
   "execution_count": null,
   "id": "45ff62fd-f9ed-417a-b60d-f51c47a7e2ae",
   "metadata": {},
   "outputs": [],
   "source": [
    "from Model import UNet\n",
    "from PIL import Image\n",
    "import numpy as np\n",
    "import matplotlib.pyplot as plt"
   ]
  },
  {
   "cell_type": "code",
   "execution_count": null,
   "id": "b9261344-aada-4a80-a0b4-15175e952ece",
   "metadata": {},
   "outputs": [],
   "source": [
    "unet = UNet()"
   ]
  },
  {
   "cell_type": "code",
   "execution_count": null,
   "id": "305ef2bc-e714-469b-bd07-5deb5dc936c6",
   "metadata": {},
   "outputs": [],
   "source": [
    "img = np.asarray(Image.open('your_image_dir'))/255.\n",
    "unet.load_weights('your_model_weight')\n"
   ]
  },
  {
   "cell_type": "code",
   "execution_count": null,
   "id": "84498661-3810-44ef-9ed4-fa1c54d6d9dd",
   "metadata": {},
   "outputs": [],
   "source": [
    "result = unet.detect_single_img(img)"
   ]
  },
  {
   "cell_type": "code",
   "execution_count": null,
   "id": "f8889b87-d551-4eb4-85c6-800d4c72d7fb",
   "metadata": {},
   "outputs": [],
   "source": [
    "def label_colormap(N=256):\n",
    "\n",
    "    def bitget(byteval, idx):\n",
    "        return ((byteval & (1 << idx)) != 0)\n",
    "\n",
    "    cmap = np.zeros((N, 3))\n",
    "    for i in range(0, N):\n",
    "        id = i\n",
    "        r, g, b = 0, 0, 0\n",
    "        for j in range(0, 8):\n",
    "            r = np.bitwise_or(r, (bitget(id, 0) << 7 - j))\n",
    "            g = np.bitwise_or(g, (bitget(id, 1) << 7 - j))\n",
    "            b = np.bitwise_or(b, (bitget(id, 2) << 7 - j))\n",
    "            id = (id >> 3)\n",
    "        cmap[i, 0] = r\n",
    "        cmap[i, 1] = g\n",
    "        cmap[i, 2] = b\n",
    "    cmap = cmap.astype(np.float32) / 255\n",
    "    return cmap\n",
    "\n",
    "plt_handlers = []\n",
    "plt_titles = []\n",
    "plt.figure()\n",
    "plt.axis('off')\n",
    "# plt.imshow(img)\n",
    "fc= label_colormap(3)[2]\n",
    "# label2rgb(lbl, colormap = )\n",
    "plt.imshow(result*255*fc[1],alpha=0.6)\n",
    "p = plt.Rectangle((0, 0), 1, 1, fc=fc)\n",
    "plt_handlers.append(p)\n",
    "plt_titles.append(': {name}'\n",
    "                  .format(name='crater_predicted'))\n",
    "plt.legend(plt_handlers, plt_titles, loc='lower right', framealpha=.5)\n",
    "plt.savefig('Img_plot/'+name+'_pred_mask.png')"
   ]
  },
  {
   "cell_type": "code",
   "execution_count": null,
   "id": "c9cc6812-d701-4936-9762-ad81c2144525",
   "metadata": {},
   "outputs": [],
   "source": []
  }
 ],
 "metadata": {
  "kernelspec": {
   "display_name": "Python 3 (ipykernel)",
   "language": "python",
   "name": "python3"
  },
  "language_info": {
   "codemirror_mode": {
    "name": "ipython",
    "version": 3
   },
   "file_extension": ".py",
   "mimetype": "text/x-python",
   "name": "python",
   "nbconvert_exporter": "python",
   "pygments_lexer": "ipython3",
   "version": "3.7.11"
  }
 },
 "nbformat": 4,
 "nbformat_minor": 5
}
